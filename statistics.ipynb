{
 "cells": [
  {
   "cell_type": "code",
   "execution_count": null,
   "metadata": {},
   "outputs": [],
   "source": []
  },
  {
   "cell_type": "code",
   "execution_count": 2,
   "metadata": {},
   "outputs": [],
   "source": [
    "import pandas as pd\n",
    "import numpy as np\n",
    "import matplotlib.pyplot as plt\n",
    "from scipy.stats import norm\n",
    "import pymc3 as pm"
   ]
  },
  {
   "cell_type": "code",
   "execution_count": 3,
   "metadata": {
    "scrolled": true
   },
   "outputs": [
    {
     "data": {
      "text/html": [
       "<div>\n",
       "<style scoped>\n",
       "    .dataframe tbody tr th:only-of-type {\n",
       "        vertical-align: middle;\n",
       "    }\n",
       "\n",
       "    .dataframe tbody tr th {\n",
       "        vertical-align: top;\n",
       "    }\n",
       "\n",
       "    .dataframe thead th {\n",
       "        text-align: right;\n",
       "    }\n",
       "</style>\n",
       "<table border=\"1\" class=\"dataframe\">\n",
       "  <thead>\n",
       "    <tr style=\"text-align: right;\">\n",
       "      <th></th>\n",
       "      <th>country</th>\n",
       "      <th>state</th>\n",
       "      <th>city</th>\n",
       "      <th>cost_of_living</th>\n",
       "      <th>rank_world</th>\n",
       "    </tr>\n",
       "  </thead>\n",
       "  <tbody>\n",
       "    <tr>\n",
       "      <td>420</td>\n",
       "      <td>United States</td>\n",
       "      <td>AK</td>\n",
       "      <td>Anchorage</td>\n",
       "      <td>93.19</td>\n",
       "      <td>16</td>\n",
       "    </tr>\n",
       "    <tr>\n",
       "      <td>421</td>\n",
       "      <td>United States</td>\n",
       "      <td>AL</td>\n",
       "      <td>Birmingham</td>\n",
       "      <td>71.87</td>\n",
       "      <td>126</td>\n",
       "    </tr>\n",
       "    <tr>\n",
       "      <td>422</td>\n",
       "      <td>United States</td>\n",
       "      <td>AL</td>\n",
       "      <td>Huntsville</td>\n",
       "      <td>59.80</td>\n",
       "      <td>285</td>\n",
       "    </tr>\n",
       "    <tr>\n",
       "      <td>423</td>\n",
       "      <td>United States</td>\n",
       "      <td>AR</td>\n",
       "      <td>Fayetteville</td>\n",
       "      <td>64.84</td>\n",
       "      <td>228</td>\n",
       "    </tr>\n",
       "    <tr>\n",
       "      <td>424</td>\n",
       "      <td>United States</td>\n",
       "      <td>AR</td>\n",
       "      <td>Little Rock</td>\n",
       "      <td>60.31</td>\n",
       "      <td>281</td>\n",
       "    </tr>\n",
       "  </tbody>\n",
       "</table>\n",
       "</div>"
      ],
      "text/plain": [
       "            country state          city  cost_of_living  rank_world\n",
       "420   United States    AK     Anchorage           93.19          16\n",
       "421   United States    AL    Birmingham           71.87         126\n",
       "422   United States    AL    Huntsville           59.80         285\n",
       "423   United States    AR  Fayetteville           64.84         228\n",
       "424   United States    AR   Little Rock           60.31         281"
      ]
     },
     "execution_count": 3,
     "metadata": {},
     "output_type": "execute_result"
    }
   ],
   "source": [
    "cost_living = pd.read_csv('clean_data/cost_of_living.csv')\n",
    "#cost of living index throughout the world highlighting the US.\n",
    "data4 = cost_living.copy()\n",
    "data4 = data4[data4.country == ' United States']\n",
    "data4.head()"
   ]
  },
  {
   "cell_type": "code",
   "execution_count": 4,
   "metadata": {},
   "outputs": [],
   "source": [
    "def ecdf(data):\n",
    "    \"\"\"Compute ECDF for a one-dimensional array of measurements.\"\"\"\n",
    "    # Number of data points: n\n",
    "    n = len(data)\n",
    "\n",
    "    # x-data for the ECDF: x\n",
    "    x = np.sort(data)\n",
    "\n",
    "    # y-data for the ECDF: y\n",
    "    y = np.arange(1, n+1) /n\n",
    "\n",
    "    return x, y"
   ]
  },
  {
   "cell_type": "code",
   "execution_count": 5,
   "metadata": {},
   "outputs": [],
   "source": [
    "us_mean = np.mean(data4.cost_of_living)\n",
    "us_std = np.std(data4.cost_of_living)"
   ]
  },
  {
   "cell_type": "code",
   "execution_count": 7,
   "metadata": {},
   "outputs": [
    {
     "data": {
      "image/png": "[encoded data removed]",
      "text/plain": [
       "<Figure size 1080x360 with 3 Axes>"
      ]
     },
     "metadata": {
      "needs_background": "light"
     },
     "output_type": "display_data"
    }
   ],
   "source": [
    "plt.figure(figsize=(15,5))\n",
    "plt.subplot(1,3,1)\n",
    "_ = plt.hist(data4.cost_of_living, bins=10)\n",
    "_ = plt.title('10 bins')\n",
    "plt.subplot(1,3,2)\n",
    "_ = plt.hist(data4.cost_of_living, bins=20)\n",
    "_ = plt.title('20 bins')\n",
    "plt.subplot(1,3,3)\n",
    "_ = plt.hist(data4.cost_of_living, bins=30)\n",
    "_ = plt.title('30 bins')"
   ]
  },
  {
   "cell_type": "code",
   "execution_count": null,
   "metadata": {},
   "outputs": [],
   "source": []
  },
  {
   "cell_type": "code",
   "execution_count": 50,
   "metadata": {},
   "outputs": [],
   "source": [
    "world_mean = np.mean(cost_living.cost_of_living)\n",
    "world_std = np.std(cost_living.cost_of_living)"
   ]
  },
  {
   "cell_type": "code",
   "execution_count": 8,
   "metadata": {
    "scrolled": true
   },
   "outputs": [
    {
     "data": {
      "image/png": "[encoded data removed]",
      "text/plain": [
       "<Figure size 1080x360 with 3 Axes>"
      ]
     },
     "metadata": {
      "needs_background": "light"
     },
     "output_type": "display_data"
    }
   ],
   "source": [
    "plt.figure(figsize=(15,5))\n",
    "plt.subplot(1,3,1)\n",
    "_ = plt.hist(cost_living.cost_of_living, bins=10)\n",
    "_ = plt.title('10 bins')\n",
    "plt.subplot(1,3,2)\n",
    "_ = plt.hist(cost_living.cost_of_living, bins=20)\n",
    "_ = plt.title('20 bins')\n",
    "plt.subplot(1,3,3)\n",
    "_ = plt.hist(cost_living.cost_of_living, bins=30)\n",
    "_ = plt.title('30 bins')\n",
    "\n",
    "plt.show()"
   ]
  },
  {
   "cell_type": "code",
   "execution_count": null,
   "metadata": {},
   "outputs": [],
   "source": []
  },
  {
   "cell_type": "code",
   "execution_count": 57,
   "metadata": {
    "scrolled": true
   },
   "outputs": [
    {
     "data": {
      "image/png": "[encoded data removed]",
      "text/plain": [
       "<Figure size 432x288 with 1 Axes>"
      ]
     },
     "metadata": {
      "needs_background": "light"
     },
     "output_type": "display_data"
    }
   ],
   "source": [
    "x_us, y_us = ecdf(data4.cost_of_living)\n",
    "x_world, y_world = ecdf(cost_living.cost_of_living)\n",
    "_ = plt.plot(x_us, y_us, marker='.', linestyle='none', alpha=0.5)\n",
    "_ = plt.plot(x_world, y_world, marker='.', linestyle='none', alpha=0.5)\n",
    "_ = plt.legend(['US', 'Entire World'])\n",
    "_ = plt.xlabel('Cost of Living Index')\n",
    "_ = plt.ylabel('ECDF')\n",
    "\n",
    "plt.show()\n"
   ]
  },
  {
   "cell_type": "markdown",
   "metadata": {},
   "source": [
    "After observing various renditions of the distributions, we can assume they are bimodal and not normal. The distributions appear to have exponential characteristics, so Bayesian inference will work best for determining the population mean."
   ]
  },
  {
   "cell_type": "code",
   "execution_count": 65,
   "metadata": {},
   "outputs": [
    {
     "name": "stdout",
     "output_type": "stream",
     "text": [
      "8.811 0.836\n"
     ]
    }
   ],
   "source": [
    "# determine the mean cost of living in the us with its uncertainty\n",
    "us_sample = data4.cost_of_living\n",
    "\n",
    "# compute summary statistics for the US sample\n",
    "observed_us_mean = np.mean(us_sample)\n",
    "observed_us_stdev = np.std(us_sample, ddof=1) # s not sigma\n",
    "\n",
    "# complare sample STDEV to Central Limit Theorm\n",
    "clt_us_stdev = np.std(us_sample)/np.sqrt(len(us_sample))\n",
    "\n",
    "# Note: distribution is not normal, so results will not match\n",
    "print(observed_us_stdev.round(3), clt_us_stdev.round(3))\n"
   ]
  },
  {
   "cell_type": "code",
   "execution_count": 67,
   "metadata": {},
   "outputs": [
    {
     "data": {
      "text/plain": [
       "0.8400836527150295"
      ]
     },
     "execution_count": 67,
     "metadata": {},
     "output_type": "execute_result"
    }
   ],
   "source": [
    "# calculate population mean for cost of living from the us_sample with Frequentist inference\n",
    "standard_err = observed_us_stdev /np.sqrt(len(us_sample))\n",
    "standard_err"
   ]
  },
  {
   "cell_type": "code",
   "execution_count": 70,
   "metadata": {},
   "outputs": [
    {
     "name": "stdout",
     "output_type": "stream",
     "text": [
      "z-value: 1.96\n"
     ]
    }
   ],
   "source": [
    "crit_val = norm.ppf(0.975)\n",
    "print('z-value: ' + str(crit_val.round(3)))"
   ]
  },
  {
   "cell_type": "code",
   "execution_count": 71,
   "metadata": {},
   "outputs": [
    {
     "name": "stdout",
     "output_type": "stream",
     "text": [
      "Margin of Error: 1.647\n"
     ]
    }
   ],
   "source": [
    "marg_err = crit_val * standard_err\n",
    "print('Margin of Error: ' + str(marg_err.round(3)))"
   ]
  },
  {
   "cell_type": "code",
   "execution_count": 74,
   "metadata": {},
   "outputs": [
    {
     "data": {
      "text/plain": [
       "((69.26, 72.553), 70.90645454545455)"
      ]
     },
     "execution_count": 74,
     "metadata": {},
     "output_type": "execute_result"
    }
   ],
   "source": [
    "# compute 95% confidence interval\n",
    "int_min = observed_us_mean - marg_err\n",
    "int_max = observed_us_mean + marg_err\n",
    "\n",
    "conf_int = (int_min.round(3), int_max.round(3))\n",
    "conf_int"
   ]
  },
  {
   "cell_type": "code",
   "execution_count": null,
   "metadata": {},
   "outputs": [],
   "source": [
    "# calculate population mean from cost of living from the us_sample with Bootstrap inference"
   ]
  },
  {
   "cell_type": "code",
   "execution_count": 75,
   "metadata": {},
   "outputs": [],
   "source": [
    "def bootstrap_replicate_1d(data, func):\n",
    "    \"\"\"Draw a single bootstrap replicate\"\"\"\n",
    "    return func(np.random.choice(data, size=len(data)))"
   ]
  },
  {
   "cell_type": "code",
   "execution_count": 76,
   "metadata": {},
   "outputs": [],
   "source": [
    "def draw_bs_reps(data, func, size=1):\n",
    "    \"\"\"Draw many bootstrap replicates.\"\"\"\n",
    "\n",
    "    # Initialize array of replicates: bs_replicates\n",
    "    bs_replicates = np.empty(size)\n",
    "\n",
    "    # Generate replicates\n",
    "    for i in range(size):\n",
    "        bs_replicates[i] = bootstrap_replicate_1d(data, func)\n",
    "\n",
    "    return bs_replicates"
   ]
  },
  {
   "cell_type": "code",
   "execution_count": 82,
   "metadata": {},
   "outputs": [],
   "source": [
    "# generate 10,000 bootstrap replicates of the mean\n",
    "N_reps = 10000\n",
    "bs_replicates = draw_bs_reps(us_sample, np.mean, N_reps)\n",
    "\n",
    "# compute standard error of the mean\n",
    "sem = np.std(us_sample) / np.sqrt(len(us_sample))\n"
   ]
  },
  {
   "cell_type": "code",
   "execution_count": 136,
   "metadata": {},
   "outputs": [
    {
     "name": "stdout",
     "output_type": "stream",
     "text": [
      "70.905 70.906\n"
     ]
    },
    {
     "data": {
      "image/png": "[encoded data removed]",
      "text/plain": [
       "<Figure size 432x288 with 1 Axes>"
      ]
     },
     "metadata": {
      "needs_background": "light"
     },
     "output_type": "display_data"
    }
   ],
   "source": [
    "def percentile_p(arr, p):\n",
    "    \"\"\"return a tuple of the lower and upper bounds of a p_% confindence interval\"\"\"\n",
    "    ends = 100 - p\n",
    "    left = ends/2\n",
    "    right = 100 - left\n",
    "    return np.percentile(arr, [left, right])\n",
    "\n",
    "conf_min, conf_max = percentile_p(bs_replicates, 95)\n",
    "conf_range = bs_replicates[(bs_replicates >= conf_min) & (bs_replicates <= conf_max)]\n",
    "\n",
    "# plot distribution of bootstrap replicates\n",
    "_ , bins, _ = plt.hist(bs_replicates, bins=50, density=True, alpha=0.5)\n",
    "_ = plt.hist(conf_range, bins=bins, density=True, alpha=1, color='b')\n",
    "_ = plt.xlabel('mean cost of living')\n",
    "_ = plt.ylabel('PDF')\n",
    "\n",
    "\n",
    "_ = plt.axvline(conf_min, color='w', linestyle='-', linewidth=2.5)\n",
    "_ = plt.axvline(conf_max, color='w', linestyle='-', linewidth=2.5)\n",
    "_ = plt.axvline(np.mean(bs_replicates), color='w', linestyle=':')\n",
    "_ = plt.axvline(observed_us_mean, color='r', alpha=0.5, linestyle=':')\n",
    "print(np.mean(bs_replicates).round(3), observed_us_mean.round(3))\n",
    "plt.show()"
   ]
  },
  {
   "cell_type": "code",
   "execution_count": 141,
   "metadata": {},
   "outputs": [],
   "source": [
    "# Now with Bayesian Inference because the original distribution looks bimodal"
   ]
  },
  {
   "cell_type": "code",
   "execution_count": 138,
   "metadata": {},
   "outputs": [],
   "source": []
  },
  {
   "cell_type": "code",
   "execution_count": 139,
   "metadata": {},
   "outputs": [
    {
     "data": {
      "text/plain": [
       "420    93.19\n",
       "421    71.87\n",
       "422    59.80\n",
       "423    64.84\n",
       "424    60.31\n",
       "Name: cost_of_living, dtype: float64"
      ]
     },
     "execution_count": 139,
     "metadata": {},
     "output_type": "execute_result"
    }
   ],
   "source": [
    "us_sample.head()"
   ]
  },
  {
   "cell_type": "code",
   "execution_count": 140,
   "metadata": {},
   "outputs": [],
   "source": [
    "n_us_sample = len(us_sample)"
   ]
  },
  {
   "cell_type": "code",
   "execution_count": 142,
   "metadata": {},
   "outputs": [
    {
     "data": {
      "text/plain": [
       "(65.35818378248898, 1.0848902224919548)"
      ]
     },
     "execution_count": 142,
     "metadata": {},
     "output_type": "execute_result"
    }
   ],
   "source": [
    "# intial parameter estimation\n",
    "alpha_est = np.mean(us_sample)**2 / np.var(us_sample)\n",
    "beta_est = np.var(us_sample) / np.mean(us_sample)\n",
    "alpha_est, beta_est"
   ]
  },
  {
   "cell_type": "code",
   "execution_count": 145,
   "metadata": {},
   "outputs": [
    {
     "data": {
      "text/plain": [
       "(65.35818378248898, 0.9217522466955551)"
      ]
     },
     "execution_count": 145,
     "metadata": {},
     "output_type": "execute_result"
    }
   ],
   "source": [
    "# create rate estimate \n",
    "rate_est = 1/beta_est\n",
    "alpha_est, rate_est"
   ]
  },
  {
   "cell_type": "code",
   "execution_count": 147,
   "metadata": {},
   "outputs": [
    {
     "name": "stderr",
     "output_type": "stream",
     "text": [
      "Auto-assigning NUTS sampler...\n",
      "Initializing NUTS using jitter+adapt_diag...\n",
      "Multiprocess sampling (2 chains in 2 jobs)\n",
      "NUTS: [rate_, alpha_]\n",
      "Sampling 2 chains: 100%|██████████| 21000/21000 [01:36<00:00, 217.49draws/s]\n",
      "The number of effective samples is smaller than 25% for some parameters.\n"
     ]
    }
   ],
   "source": [
    "# create a pymc3 model\n",
    "\n",
    "with pm.Model() as model:\n",
    "    N_draws = 10000\n",
    "    \n",
    "    # use exponential prior for alpha\n",
    "    alpha_ = pm.Exponential('alpha_', 1/alpha_est)\n",
    "    \n",
    "    # use exponential prior for rate (1 / beta)\n",
    "    rate_ = pm.Exponential('rate_', 1/rate_est)\n",
    "    \n",
    "    # create gamma distribution\n",
    "    us_sample_gam_dist = pm.Gamma('us_sample_gam_dist', alpha=alpha_, beta=rate_, observed=us_sample)\n",
    "    \n",
    "    # perfrom 10000 draws\n",
    "    trace = pm.sample(N_draws)"
   ]
  },
  {
   "cell_type": "code",
   "execution_count": 151,
   "metadata": {},
   "outputs": [
    {
     "data": {
      "text/plain": [
       "array([52.12490784, 87.9571305 ])"
      ]
     },
     "execution_count": 151,
     "metadata": {},
     "output_type": "execute_result"
    }
   ],
   "source": [
    "# calculate the 95% credible interval for alpha & beta\n",
    "with model:\n",
    "    alpha_ci = percentile_p(trace['alpha_'], 95)\n",
    "    beta_ci = percentile_p(1/trace['rate_'], 95)\n",
    "alpha_ci"
   ]
  },
  {
   "cell_type": "code",
   "execution_count": 152,
   "metadata": {},
   "outputs": [
    {
     "data": {
      "image/png": "[encoded data removed]",
      "text/plain": [
       "<Figure size 432x288 with 1 Axes>"
      ]
     },
     "metadata": {
      "needs_background": "light"
     },
     "output_type": "display_data"
    },
    {
     "data": {
      "image/png": "[encoded data removed]",
      "text/plain": [
       "<Figure size 432x288 with 1 Axes>"
      ]
     },
     "metadata": {
      "needs_background": "light"
     },
     "output_type": "display_data"
    }
   ],
   "source": [
    "\n",
    "# plot posterior values of alpha & beta\n",
    "\n",
    "\n",
    "_ = pm.plots.plot_posterior(data=trace['alpha_'], color='k')\n",
    "_ = plt.hist(trace['alpha_'], bins=30, color='blue', alpha=0.35, density=True)\n",
    "l1 , r1 = alpha_ci\n",
    "_ = plt.axvline(l1, color='red', linestyle='-.')\n",
    "_ = plt.axvline(r1, color='blue', linestyle='-.')\n",
    "_ = plt.legend(['density', '94% credible interval', '2.5 percentile','97.5 percentile','','alpha'])\n",
    "_ = plt.title('alpha: distribution of posterior values')\n",
    "_ = plt.ylabel('pdf')\n",
    "_ = plt.xlabel('alpha')\n",
    "\n",
    "\n",
    "_ = pm.plots.plot_posterior(data=1/trace['rate_'], color='k')\n",
    "_ = plt.hist(1/trace['rate_'], bins=30, color='g', alpha=0.5, density=True)\n",
    "l2, r2 = beta_ci\n",
    "_ = plt.axvline(l2, color='red', linestyle='-.')\n",
    "_ = plt.axvline(r2, color='blue', linestyle='-.')\n",
    "_ = plt.legend(['alpha', 'density', '95% credible interval'])\n",
    "_ = plt.legend(['density', '94% credible interval', '2.5 percentile','97.5 percentile','','beta'])\n",
    "_ = plt.title('beta: distribution of posterior values')\n",
    "_ = plt.ylabel('pdf')\n",
    "_ = plt.xlabel('beta')\n",
    "\n",
    "plt.show()"
   ]
  },
  {
   "cell_type": "code",
   "execution_count": null,
   "metadata": {},
   "outputs": [],
   "source": []
  }
 ],
 "metadata": {
  "kernelspec": {
   "display_name": "Python 3",
   "language": "python",
   "name": "python3"
  },
  "language_info": {
   "codemirror_mode": {
    "name": "ipython",
    "version": 3
   },
   "file_extension": ".py",
   "mimetype": "text/x-python",
   "name": "python",
   "nbconvert_exporter": "python",
   "pygments_lexer": "ipython3",
   "version": "3.7.4"
  }
 },
 "nbformat": 4,
 "nbformat_minor": 2
}
