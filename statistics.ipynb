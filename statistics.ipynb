{
 "cells": [
  {
   "cell_type": "code",
   "execution_count": 17,
   "metadata": {},
   "outputs": [],
   "source": [
    "import pandas as pd\n",
    "import numpy as np\n",
    "import matplotlib.pyplot as plt\n",
    "from scipy.stats import norm\n",
    "import pymc3 as pm\n",
    "import seaborn as sns"
   ]
  },
  {
   "cell_type": "code",
   "execution_count": 2,
   "metadata": {},
   "outputs": [],
   "source": [
    "def ecdf(data):\n",
    "    \"\"\"Compute ECDF for a one-dimensional array of measurements.\"\"\"\n",
    "    # Number of data points: n\n",
    "    n = len(data)\n",
    "\n",
    "    # x-data for the ECDF: x\n",
    "    x = np.sort(data)\n",
    "\n",
    "    # y-data for the ECDF: y\n",
    "    y = np.arange(1, n+1) /n\n",
    "\n",
    "    return x, y"
   ]
  },
  {
   "cell_type": "code",
   "execution_count": 3,
   "metadata": {},
   "outputs": [],
   "source": [
    "def frequentist_mean(sample):\n",
    "    \n",
    "    \"\"\" given a sample, use Frequentist Inference to return the 95 % confidence interval for the mean as a tuple\"\"\"\n",
    "    \n",
    "    # compute summary statistics of the sample\n",
    "    observed_mean = np.mean(sample)\n",
    "    observed_std = np.std(sample, ddof=1)\n",
    "    \n",
    "    # compute standard error\n",
    "    standard_err = observed_std/np.sqrt(len(sample))\n",
    "    \n",
    "    # compute critical value for 95% confidence\n",
    "    crit_val = norm.ppf(0.975)\n",
    "    \n",
    "    # compute Margin of Error\n",
    "    marg_err = crit_val * standard_err\n",
    "    \n",
    "    # compute 95% confidence interval\n",
    "    int_min = observed_mean - marg_err\n",
    "    int_max = observed_mean + marg_err\n",
    "    \n",
    "    return (int_min, int_max)"
   ]
  },
  {
   "cell_type": "code",
   "execution_count": 4,
   "metadata": {},
   "outputs": [],
   "source": [
    "def percentile_p(arr, p):\n",
    "    \"\"\"return a tuple of the lower and upper bounds of a p_% confindence interval\"\"\"\n",
    "    ends = 100 - p\n",
    "    left = ends/2\n",
    "    right = 100 - left\n",
    "    return np.percentile(arr, [left, right])"
   ]
  },
  {
   "cell_type": "code",
   "execution_count": 5,
   "metadata": {},
   "outputs": [],
   "source": [
    "def bootstrap_replicate_1d(data, func):\n",
    "    \"\"\"Draw a single bootstrap replicate\"\"\"\n",
    "    return func(np.random.choice(data, size=len(data)))"
   ]
  },
  {
   "cell_type": "code",
   "execution_count": 6,
   "metadata": {},
   "outputs": [],
   "source": [
    "def draw_bs_reps(data, func, size=1):\n",
    "    \"\"\"Draw many bootstrap replicates.\"\"\"\n",
    "\n",
    "    # Initialize array of replicates: bs_replicates\n",
    "    bs_replicates = np.empty(size)\n",
    "\n",
    "    # Generate replicates\n",
    "    for i in range(size):\n",
    "        bs_replicates[i] = bootstrap_replicate_1d(data, func)\n",
    "\n",
    "    return bs_replicates"
   ]
  },
  {
   "cell_type": "code",
   "execution_count": 7,
   "metadata": {},
   "outputs": [],
   "source": [
    "def bootstrap_mean(sample):\n",
    "    \n",
    "    \"\"\" given a sample, use Bootstrap Statistics to return the distribution and the 95 % confidence interval for the mean as a tuple\"\"\"\n",
    "    # compute observed mean of sample\n",
    "    observed_mean = np.mean(sample)\n",
    "    \n",
    "    # generate 10,000 bootstrap replicates\n",
    "    N_reps = 10000\n",
    "    bs_replicates = draw_bs_reps(sample, np.mean, N_reps)\n",
    "    \n",
    "    # compute standard error of the mean \n",
    "    sem = np.std(sample) / np.sqrt(len(sample))\n",
    "    \n",
    "    # compute extremes of 95 percentile\n",
    "    int_min, int_max = percentile_p(bs_replicates, 95)\n",
    "    \n",
    "    conf_min, conf_max = percentile_p(bs_replicates, 95)\n",
    "    conf_range = bs_replicates[(bs_replicates >= conf_min) & (bs_replicates <= conf_max)]\n",
    "    \n",
    "    \n",
    "    # plot distribution of bootstrap replicates\n",
    "    _ , bins, _ = plt.hist(bs_replicates, bins=50, density=True, alpha=0.5)\n",
    "    _ = plt.hist(conf_range, bins=bins, density=True, alpha=1, color='b')\n",
    "    _ = plt.xlabel('mean')\n",
    "    _ = plt.ylabel('PDF')\n",
    "\n",
    "\n",
    "    _ = plt.axvline(conf_min, color='w', linestyle='-', linewidth=2.5)\n",
    "    _ = plt.axvline(conf_max, color='w', linestyle='-', linewidth=2.5)\n",
    "    _ = plt.axvline(np.mean(bs_replicates), color='w', linestyle=':')\n",
    "    _ = plt.axvline(observed_mean, color='r', alpha=0.5, linestyle=':')\n",
    "\n",
    "    _ = plt.title('95% Confidence Interval of the Mean')\n",
    "    print(np.mean(bs_replicates).round(3), observed_mean.round(3))\n",
    "    plt.show()\n",
    "    \n",
    "    return (bs_replicates, int_min, int_max)\n",
    "    "
   ]
  },
  {
   "cell_type": "code",
   "execution_count": 8,
   "metadata": {},
   "outputs": [],
   "source": [
    "def bayesian_mean(sample):\n",
    "    \n",
    "    \"\"\" given a sample, use Bayesian Inference to return the distribution and the 95 % confidence interval for the mean as a tuple\"\"\"\n",
    "    \n",
    "    # compute sample size\n",
    "    n_sample = len(sample)\n",
    "    \n",
    "    # estimate initial parameters\n",
    "    alpha_est = np.mean(sample)**2 / np.var(sample)\n",
    "    beta_est = np.var(sample) / np.mean(sample)\n",
    "    \n",
    "    # estimate rate\n",
    "    rate_est = 1/beta_est\n",
    "    \n",
    "    # create PyMC3 Model\n",
    "    \n",
    "    with pm.Model() as Model:\n",
    "        \n",
    "        # set number of draws for the model\n",
    "        N_draws = 10000\n",
    "        \n",
    "        # use exponential prior for alpha\n",
    "        alpha_ = pm.Exponential('alpha_', 1/alpha_est)\n",
    "\n",
    "        # use exponential prior for rate (1 / beta)\n",
    "        rate_ = pm.Exponential('rate_', 1/rate_est)\n",
    "\n",
    "        # create gamma distribution\n",
    "        us_sample_gam_dist = pm.Gamma('us_sample_gam_dist', alpha=alpha_, beta=rate_, observed=us_sample)\n",
    "\n",
    "        # perfrom 10000 draws\n",
    "        trace = pm.sample(N_draws)\n",
    "        \n",
    "        # calculate the 95% credible interval for alpha & beta\n",
    "        alpha_ci = percentile_p(trace['alpha_'], 95)\n",
    "        beta_ci = percentile_p(1/trace['rate_'], 95)\n",
    "        int_min , int_max = alpha_ci\n",
    "        \n",
    "    # plot posterior values of alpha & beta\n",
    "    _ = pm.plots.plot_posterior(data=trace['alpha_'], color='k')\n",
    "    _ = plt.hist(trace['alpha_'], bins=30, color='blue', alpha=0.35, density=True)\n",
    "    _ = plt.axvline(int_min, color='red', linestyle='-.')\n",
    "    _ = plt.axvline(int_max, color='blue', linestyle='-.')\n",
    "    _ = plt.axvline(np.mean(trace['alpha_']), color='w', linestyle=':')\n",
    "    _ = plt.legend(['density', '94% credible interval', '2.5 percentile','97.5 percentile','','','alpha'])\n",
    "    _ = plt.title('alpha: distribution of posterior values')\n",
    "    _ = plt.ylabel('pdf')\n",
    "    _ = plt.xlabel('alpha')\n",
    "\n",
    "    plt.show()\n",
    "    \n",
    "    return (trace['alpha_'], int_min, int_max)\n",
    "    "
   ]
  },
  {
   "cell_type": "code",
   "execution_count": 9,
   "metadata": {},
   "outputs": [],
   "source": [
    "def explore_bins(dist):\n",
    "    plt.figure(figsize=(15,5))\n",
    "    plt.subplot(1,3,1)\n",
    "    _ = plt.hist(dist, bins=10)\n",
    "    _ = plt.title('10 bins')\n",
    "    plt.subplot(1,3,2)\n",
    "    _ = plt.hist(dist, bins=20)\n",
    "    _ = plt.title('20 bins')\n",
    "    plt.subplot(1,3,3)\n",
    "    _ = plt.hist(dist, bins=30)\n",
    "    _ = plt.title('30 bins')\n",
    "    "
   ]
  },
  {
   "cell_type": "code",
   "execution_count": null,
   "metadata": {},
   "outputs": [],
   "source": []
  },
  {
   "cell_type": "markdown",
   "metadata": {},
   "source": [
    "**Identifying the mean cost of living in the US**"
   ]
  },
  {
   "cell_type": "code",
   "execution_count": 41,
   "metadata": {},
   "outputs": [
    {
     "data": {
      "text/plain": [
       "420    93.19\n",
       "421    71.87\n",
       "422    59.80\n",
       "423    64.84\n",
       "424    60.31\n",
       "Name: cost_of_living, dtype: float64"
      ]
     },
     "execution_count": 41,
     "metadata": {},
     "output_type": "execute_result"
    }
   ],
   "source": [
    "# read cost of living data from file\n",
    "cost_living = pd.read_csv('clean_data/cost_of_living.csv')\n",
    "\n",
    "# isolate US cities\n",
    "us_sample = cost_living[cost_living.country == ' United States'].cost_of_living\n",
    "us_sample.head()"
   ]
  },
  {
   "cell_type": "code",
   "execution_count": 11,
   "metadata": {},
   "outputs": [
    {
     "data": {
      "image/png": "[encoded data removed]",
      "text/plain": [
       "<Figure size 1080x360 with 3 Axes>"
      ]
     },
     "metadata": {
      "needs_background": "light"
     },
     "output_type": "display_data"
    }
   ],
   "source": [
    "# examine distribution and appropriate bin sizes\n",
    "explore_bins(us_sample)"
   ]
  },
  {
   "cell_type": "code",
   "execution_count": 12,
   "metadata": {},
   "outputs": [
    {
     "data": {
      "image/png": "[encoded data removed]",
      "text/plain": [
       "<Figure size 432x288 with 1 Axes>"
      ]
     },
     "metadata": {
      "needs_background": "light"
     },
     "output_type": "display_data"
    }
   ],
   "source": [
    "# compute ECDF for US data\n",
    "x_us, y_us = ecdf(us_sample)\n",
    "\n",
    "# compute ECDF for world data\n",
    "x_world, y_world = ecdf(cost_living.cost_of_living)\n",
    "\n",
    "\n",
    "# plot ECDFs\n",
    "_ = plt.plot(x_us, y_us, marker='.', linestyle='none', alpha=0.5)\n",
    "_ = plt.plot(x_world, y_world, marker='.', linestyle='none', alpha=0.5)\n",
    "_ = plt.legend(['US', 'Entire World'])\n",
    "_ = plt.xlabel('Cost of Living Index')\n",
    "_ = plt.ylabel('ECDF')\n",
    "\n",
    "plt.show()\n"
   ]
  },
  {
   "cell_type": "markdown",
   "metadata": {},
   "source": [
    "After observing various renditions of the distributions, we can assume they are bimodal and not normal. The distributions appear to have exponential characteristics, so Bayesian inference will work best for determining the credible interval of the population mean."
   ]
  },
  {
   "cell_type": "markdown",
   "metadata": {},
   "source": [
    "Using Frequentists Inference, the 95% confidence interval for the mean can be computed as follows:"
   ]
  },
  {
   "cell_type": "code",
   "execution_count": 59,
   "metadata": {},
   "outputs": [
    {
     "data": {
      "text/plain": [
       "(69.26, 72.55)"
      ]
     },
     "execution_count": 59,
     "metadata": {},
     "output_type": "execute_result"
    }
   ],
   "source": [
    "# compute 95% confidence interval for the mean using Frequentist Inference\n",
    "freq_min, freq_max = frequentist_mean(us_sample)\n",
    "(freq_min.round(2), freq_max.round(2))"
   ]
  },
  {
   "cell_type": "code",
   "execution_count": 60,
   "metadata": {},
   "outputs": [
    {
     "name": "stdout",
     "output_type": "stream",
     "text": [
      "70.923 70.906\n"
     ]
    },
    {
     "data": {
      "image/png": "[encoded data removed]",
      "text/plain": [
       "<Figure size 432x288 with 1 Axes>"
      ]
     },
     "metadata": {
      "needs_background": "light"
     },
     "output_type": "display_data"
    },
    {
     "data": {
      "text/plain": [
       "(69.32745454545454, 72.56796363636364)"
      ]
     },
     "execution_count": 60,
     "metadata": {},
     "output_type": "execute_result"
    }
   ],
   "source": [
    "# compute 95% confidence interval for the mean using Bootstrap Statistics\n",
    "boot_dist, boot_min, boot_max = bootstrap_mean(us_sample)\n",
    "(boot_min, boot_max)"
   ]
  },
  {
   "cell_type": "code",
   "execution_count": 15,
   "metadata": {},
   "outputs": [
    {
     "name": "stderr",
     "output_type": "stream",
     "text": [
      "Auto-assigning NUTS sampler...\n",
      "Initializing NUTS using jitter+adapt_diag...\n",
      "Multiprocess sampling (2 chains in 2 jobs)\n",
      "NUTS: [rate_, alpha_]\n",
      "Sampling 2 chains: 100%|██████████| 21000/21000 [01:37<00:00, 216.10draws/s]\n",
      "The number of effective samples is smaller than 25% for some parameters.\n"
     ]
    },
    {
     "data": {
      "image/png": "[encoded data removed]",
      "text/plain": [
       "<Figure size 432x288 with 1 Axes>"
      ]
     },
     "metadata": {
      "needs_background": "light"
     },
     "output_type": "display_data"
    }
   ],
   "source": [
    "# compute 95% confidence interval for the mean using Bayesian Inference\n",
    "bayes_dist, bayes_min, bayes_max = bayesian_mean(us_sample)"
   ]
  },
  {
   "cell_type": "code",
   "execution_count": 65,
   "metadata": {},
   "outputs": [
    {
     "data": {
      "text/plain": [
       "(69.26, 72.55)"
      ]
     },
     "execution_count": 65,
     "metadata": {},
     "output_type": "execute_result"
    }
   ],
   "source": [
    "freq_min.round(2), freq_max.round(2)"
   ]
  },
  {
   "cell_type": "code",
   "execution_count": 66,
   "metadata": {},
   "outputs": [
    {
     "data": {
      "text/plain": [
       "70.92"
      ]
     },
     "execution_count": 66,
     "metadata": {},
     "output_type": "execute_result"
    }
   ],
   "source": [
    "np.mean(boot_dist).round(2)"
   ]
  },
  {
   "cell_type": "code",
   "execution_count": 67,
   "metadata": {},
   "outputs": [
    {
     "data": {
      "text/plain": [
       "68.86"
      ]
     },
     "execution_count": 67,
     "metadata": {},
     "output_type": "execute_result"
    }
   ],
   "source": [
    "np.mean(bayes_dist).round(2)"
   ]
  },
  {
   "cell_type": "code",
   "execution_count": null,
   "metadata": {},
   "outputs": [],
   "source": []
  }
 ],
 "metadata": {
  "kernelspec": {
   "display_name": "Python 3",
   "language": "python",
   "name": "python3"
  },
  "language_info": {
   "codemirror_mode": {
    "name": "ipython",
    "version": 3
   },
   "file_extension": ".py",
   "mimetype": "text/x-python",
   "name": "python",
   "nbconvert_exporter": "python",
   "pygments_lexer": "ipython3",
   "version": "3.7.4"
  }
 },
 "nbformat": 4,
 "nbformat_minor": 2
}
