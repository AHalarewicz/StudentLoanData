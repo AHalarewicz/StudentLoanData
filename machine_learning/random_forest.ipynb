{
 "cells": [
  {
   "cell_type": "code",
   "execution_count": 1,
   "metadata": {},
   "outputs": [],
   "source": [
    "import pandas as pd\n",
    "import numpy as np\n",
    "import matplotlib.pyplot as plt\n",
    "from sklearn.model_selection import train_test_split\n",
    "from sklearn.ensemble import RandomForestClassifier\n",
    "from imblearn.over_sampling import SMOTE\n",
    "from sklearn.metrics import classification_report, confusion_matrix, roc_curve, roc_auc_score"
   ]
  },
  {
   "cell_type": "code",
   "execution_count": 2,
   "metadata": {},
   "outputs": [
    {
     "name": "stdout",
     "output_type": "stream",
     "text": [
      "<class 'pandas.core.frame.DataFrame'>\n",
      "RangeIndex: 886956 entries, 0 to 886955\n",
      "Data columns (total 52 columns):\n",
      "Unnamed: 0                             886956 non-null int64\n",
      "loan_amnt                              886956 non-null float64\n",
      "funded_amnt                            886956 non-null float64\n",
      "term                                   886956 non-null int64\n",
      "int_rate                               886956 non-null float64\n",
      "installment                            886956 non-null float64\n",
      "emp_length                             886956 non-null float64\n",
      "annual_inc                             886952 non-null float64\n",
      "pymnt_plan                             886956 non-null int64\n",
      "dti                                    886956 non-null float64\n",
      "delinq_2yrs                            886927 non-null float64\n",
      "inq_last_6mths                         886927 non-null float64\n",
      "open_acc                               886927 non-null float64\n",
      "total_rec_late_fee                     886956 non-null float64\n",
      "pub_rec                                886927 non-null float64\n",
      "revol_bal                              886956 non-null float64\n",
      "total_acc                              886927 non-null float64\n",
      "out_prncp                              886956 non-null float64\n",
      "total_pymnt                            886956 non-null float64\n",
      "total_rec_prncp                        886956 non-null float64\n",
      "total_rec_int                          886956 non-null float64\n",
      "recoveries                             886956 non-null float64\n",
      "last_pymnt_amnt                        886956 non-null float64\n",
      "acc_now_delinq                         886927 non-null float64\n",
      "tot_coll_amt                           886956 non-null float64\n",
      "tot_cur_bal                            886956 non-null float64\n",
      "grade_A                                886956 non-null int64\n",
      "grade_B                                886956 non-null int64\n",
      "grade_C                                886956 non-null int64\n",
      "grade_D                                886956 non-null int64\n",
      "grade_E                                886956 non-null int64\n",
      "grade_F                                886956 non-null int64\n",
      "home_ownership_OWN                     886956 non-null int64\n",
      "home_ownership_RENT                    886956 non-null int64\n",
      "home_ownership_MORTGAGE                886956 non-null int64\n",
      "verification_status_Source Verified    886956 non-null int64\n",
      "verification_status_Verified           886956 non-null int64\n",
      "joint_application                      886956 non-null int64\n",
      "purpose_car                            886956 non-null int64\n",
      "purpose_credit_card                    886956 non-null int64\n",
      "purpose_debt_consolidation             886956 non-null int64\n",
      "purpose_educational                    886956 non-null int64\n",
      "purpose_home_improvement               886956 non-null int64\n",
      "purpose_house                          886956 non-null int64\n",
      "purpose_major_purchase                 886956 non-null int64\n",
      "purpose_medical                        886956 non-null int64\n",
      "purpose_moving                         886956 non-null int64\n",
      "purpose_renewable_energy               886956 non-null int64\n",
      "purpose_small_business                 886956 non-null int64\n",
      "purpose_vacation                       886956 non-null int64\n",
      "purpose_wedding                        886956 non-null int64\n",
      "default                                886956 non-null int64\n",
      "dtypes: float64(23), int64(29)\n",
      "memory usage: 351.9 MB\n"
     ]
    }
   ],
   "source": [
    "loans = pd.read_csv('data/clean_data/other_loans.csv',low_memory=True, header=0)\n",
    "loans.info()"
   ]
  },
  {
   "cell_type": "code",
   "execution_count": 3,
   "metadata": {},
   "outputs": [
    {
     "data": {
      "text/plain": [
       "(886927, 52)"
      ]
     },
     "execution_count": 3,
     "metadata": {},
     "output_type": "execute_result"
    }
   ],
   "source": [
    "loans = loans.dropna()\n",
    "loans.shape"
   ]
  },
  {
   "cell_type": "code",
   "execution_count": 4,
   "metadata": {},
   "outputs": [],
   "source": [
    "y = loans['default'].values\n",
    "X = loans.drop('default', axis=1).values"
   ]
  },
  {
   "cell_type": "code",
   "execution_count": 5,
   "metadata": {},
   "outputs": [
    {
     "data": {
      "text/plain": [
       "(886927, 51)"
      ]
     },
     "execution_count": 5,
     "metadata": {},
     "output_type": "execute_result"
    }
   ],
   "source": [
    "X.shape"
   ]
  },
  {
   "cell_type": "code",
   "execution_count": 6,
   "metadata": {},
   "outputs": [],
   "source": [
    "X_train, X_test, y_train, y_test = train_test_split(X, y, test_size=0.3, random_state=33)"
   ]
  },
  {
   "cell_type": "code",
   "execution_count": 7,
   "metadata": {
    "scrolled": true
   },
   "outputs": [
    {
     "name": "stdout",
     "output_type": "stream",
     "text": [
      "fitting model to training data\n",
      "evaluating model performance\n",
      "0.9986244686728377\n"
     ]
    }
   ],
   "source": [
    "# instantiate random forest classifier\n",
    "random_forest = RandomForestClassifier(max_depth=True)\n",
    "\n",
    "# fit model to training data\n",
    "print('fitting model to training data')\n",
    "random_forest = random_forest.fit(X_train, y_train)\n",
    "\n",
    "# test model performance\n",
    "print('evaluating model performance')\n",
    "score = random_forest.score(X_test, y_test)\n",
    "print(score)"
   ]
  },
  {
   "cell_type": "code",
   "execution_count": 8,
   "metadata": {},
   "outputs": [
    {
     "data": {
      "text/html": [
       "<div>\n",
       "<style scoped>\n",
       "    .dataframe tbody tr th:only-of-type {\n",
       "        vertical-align: middle;\n",
       "    }\n",
       "\n",
       "    .dataframe tbody tr th {\n",
       "        vertical-align: top;\n",
       "    }\n",
       "\n",
       "    .dataframe thead th {\n",
       "        text-align: right;\n",
       "    }\n",
       "</style>\n",
       "<table border=\"1\" class=\"dataframe\">\n",
       "  <thead>\n",
       "    <tr style=\"text-align: right;\">\n",
       "      <th></th>\n",
       "      <th>Predict: NO</th>\n",
       "      <th>Predict: YES</th>\n",
       "    </tr>\n",
       "  </thead>\n",
       "  <tbody>\n",
       "    <tr>\n",
       "      <td>Actual: NO</td>\n",
       "      <td>265713</td>\n",
       "      <td>0</td>\n",
       "    </tr>\n",
       "    <tr>\n",
       "      <td>Actual: YES</td>\n",
       "      <td>366</td>\n",
       "      <td>0</td>\n",
       "    </tr>\n",
       "  </tbody>\n",
       "</table>\n",
       "</div>"
      ],
      "text/plain": [
       "             Predict: NO  Predict: YES\n",
       "Actual: NO        265713             0\n",
       "Actual: YES          366             0"
      ]
     },
     "execution_count": 8,
     "metadata": {},
     "output_type": "execute_result"
    }
   ],
   "source": [
    "y_pred = random_forest.predict(X_test)\n",
    "conf_matrx = pd.DataFrame(confusion_matrix(y_test, y_pred))\n",
    "conf_matrx.columns = ['Predict: NO', 'Predict: YES']\n",
    "conf_matrx.index = ['Actual: NO', 'Actual: YES']\n",
    "conf_matrx"
   ]
  },
  {
   "cell_type": "code",
   "execution_count": 9,
   "metadata": {},
   "outputs": [
    {
     "data": {
      "image/png": "[encoded data removed]",
      "text/plain": [
       "<Figure size 360x360 with 1 Axes>"
      ]
     },
     "metadata": {
      "needs_background": "light"
     },
     "output_type": "display_data"
    }
   ],
   "source": [
    "# predict probability\n",
    "y_pred_prob = random_forest.predict_proba(X_test)[:,1]\n",
    "\n",
    "# compute False Positive and True Positive Rate\n",
    "fpr, tpr, thresholds = roc_curve(y_test, y_pred_prob)\n",
    "\n",
    "# compute Area under the curve\n",
    "roc_auc = roc_auc_score(y_test, y_pred)\n",
    "\n",
    "# plot ROC curve\n",
    "title = 'ROC Curve:  AUC =' + str(roc_auc.round(3))\n",
    "_ = plt.figure(figsize=(5,5))\n",
    "_ = plt.plot(fpr, tpr)\n",
    "_ = plt.plot([0,1], [0,1], 'k--')\n",
    "_ = plt.xlabel('False Positive Rate (FPR)')\n",
    "_ = plt.ylabel('True Positive Rate (TPR)')\n",
    "_ = plt.title(title)\n",
    "_ = plt.legend(['predictive power','random vector'])"
   ]
  },
  {
   "cell_type": "code",
   "execution_count": 10,
   "metadata": {},
   "outputs": [],
   "source": [
    "predictions = random_forest.predict(X_test)"
   ]
  },
  {
   "cell_type": "code",
   "execution_count": 11,
   "metadata": {},
   "outputs": [
    {
     "data": {
      "text/plain": [
       "count    886927.000000\n",
       "mean          0.001374\n",
       "std           0.037048\n",
       "min           0.000000\n",
       "25%           0.000000\n",
       "50%           0.000000\n",
       "75%           0.000000\n",
       "max           1.000000\n",
       "Name: default, dtype: float64"
      ]
     },
     "execution_count": 11,
     "metadata": {},
     "output_type": "execute_result"
    }
   ],
   "source": [
    "loans.default.describe()"
   ]
  },
  {
   "cell_type": "code",
   "execution_count": 12,
   "metadata": {},
   "outputs": [
    {
     "data": {
      "text/plain": [
       "0.0"
      ]
     },
     "execution_count": 12,
     "metadata": {},
     "output_type": "execute_result"
    }
   ],
   "source": [
    "np.mean(predictions)"
   ]
  },
  {
   "cell_type": "code",
   "execution_count": 13,
   "metadata": {},
   "outputs": [
    {
     "data": {
      "text/plain": [
       "0.0"
      ]
     },
     "execution_count": 13,
     "metadata": {},
     "output_type": "execute_result"
    }
   ],
   "source": [
    "sum(predictions)/len(predictions)"
   ]
  },
  {
   "cell_type": "markdown",
   "metadata": {},
   "source": [
    "**Oh no, the model is predicting that all loans will not default, but SMOTE can be used to fix the class imbalance.**"
   ]
  },
  {
   "cell_type": "code",
   "execution_count": 14,
   "metadata": {},
   "outputs": [
    {
     "data": {
      "text/plain": [
       "{0: 619995, 1: 853}"
      ]
     },
     "execution_count": 14,
     "metadata": {},
     "output_type": "execute_result"
    }
   ],
   "source": [
    "# inspect class imbalance for defaulted loans\n",
    "unique, count = np.unique(y_train, return_counts=True)\n",
    "value_counts = {k:v for (k,v) in zip(unique, count)}\n",
    "value_counts"
   ]
  },
  {
   "cell_type": "code",
   "execution_count": 15,
   "metadata": {},
   "outputs": [],
   "source": [
    "# Applt Synthetic Minority Over-sampling Technique (SMOTE)\n",
    "sm = SMOTE(random_state=42)\n",
    "X_train_bal, y_train_bal = sm.fit_sample(X_train, y_train)"
   ]
  },
  {
   "cell_type": "code",
   "execution_count": 16,
   "metadata": {},
   "outputs": [
    {
     "data": {
      "text/plain": [
       "{0: 619995, 1: 619995}"
      ]
     },
     "execution_count": 16,
     "metadata": {},
     "output_type": "execute_result"
    }
   ],
   "source": [
    "# inspect balanced training data\n",
    "unique, count = np.unique(y_train_bal, return_counts=True)\n",
    "value_counts = {k:v for (k,v) in zip(unique, count)}\n",
    "value_counts"
   ]
  },
  {
   "cell_type": "markdown",
   "metadata": {},
   "source": [
    "**Now, lets train the random forest on the balanced training set**"
   ]
  },
  {
   "cell_type": "code",
   "execution_count": 17,
   "metadata": {},
   "outputs": [
    {
     "name": "stdout",
     "output_type": "stream",
     "text": [
      "fitting model to training data\n",
      "evaluating model performance\n",
      "0.7132618508037086\n"
     ]
    }
   ],
   "source": [
    "# instantiate random forest classifier\n",
    "random_forest = RandomForestClassifier(max_depth=True)\n",
    "\n",
    "# fit model to training data\n",
    "print('fitting model to training data')\n",
    "random_forest = random_forest.fit(X_train_bal, y_train_bal)\n",
    "\n",
    "# test model performance\n",
    "print('evaluating model performance')\n",
    "score = random_forest.score(X_test, y_test)\n",
    "print(score)"
   ]
  },
  {
   "cell_type": "code",
   "execution_count": null,
   "metadata": {},
   "outputs": [],
   "source": []
  },
  {
   "cell_type": "code",
   "execution_count": 29,
   "metadata": {
    "scrolled": true
   },
   "outputs": [
    {
     "data": {
      "text/html": [
       "<div>\n",
       "<style scoped>\n",
       "    .dataframe tbody tr th:only-of-type {\n",
       "        vertical-align: middle;\n",
       "    }\n",
       "\n",
       "    .dataframe tbody tr th {\n",
       "        vertical-align: top;\n",
       "    }\n",
       "\n",
       "    .dataframe thead th {\n",
       "        text-align: right;\n",
       "    }\n",
       "</style>\n",
       "<table border=\"1\" class=\"dataframe\">\n",
       "  <thead>\n",
       "    <tr style=\"text-align: right;\">\n",
       "      <th></th>\n",
       "      <th>Predict: NO</th>\n",
       "      <th>Predict: YES</th>\n",
       "    </tr>\n",
       "  </thead>\n",
       "  <tbody>\n",
       "    <tr>\n",
       "      <td>Actual: NO</td>\n",
       "      <td>189533</td>\n",
       "      <td>76180</td>\n",
       "    </tr>\n",
       "    <tr>\n",
       "      <td>Actual: YES</td>\n",
       "      <td>115</td>\n",
       "      <td>251</td>\n",
       "    </tr>\n",
       "  </tbody>\n",
       "</table>\n",
       "</div>"
      ],
      "text/plain": [
       "             Predict: NO  Predict: YES\n",
       "Actual: NO        189533         76180\n",
       "Actual: YES          115           251"
      ]
     },
     "execution_count": 29,
     "metadata": {},
     "output_type": "execute_result"
    }
   ],
   "source": [
    "y_pred = random_forest.predict(X_test)\n",
    "confusion_matrix = confusion_matrix(y_test, y_pred)\n",
    "conf_matrx = pd.DataFrame(confusion_matrix)\n",
    "conf_matrx.columns = ['Predict: NO', 'Predict: YES']\n",
    "conf_matrx.index = ['Actual: NO', 'Actual: YES']\n",
    "conf_matrx"
   ]
  },
  {
   "cell_type": "code",
   "execution_count": 31,
   "metadata": {},
   "outputs": [],
   "source": [
    "tp = confusion_matrix[1,1]\n",
    "tn = confusion_matrix[0,0]\n",
    "fp = confusion_matrix[0,1]\n",
    "fn = confusion_matrix[1,0]\n",
    "\n",
    "TPR = (tp)/(tp + fn)\n",
    "FPR = (fp)/(fp + tn)"
   ]
  },
  {
   "cell_type": "code",
   "execution_count": 33,
   "metadata": {},
   "outputs": [
    {
     "name": "stdout",
     "output_type": "stream",
     "text": [
      "TPR:  0.686 \tFPR:  0.287\n"
     ]
    },
    {
     "data": {
      "image/png": "[encoded data removed]",
      "text/plain": [
       "<Figure size 360x360 with 1 Axes>"
      ]
     },
     "metadata": {
      "needs_background": "light"
     },
     "output_type": "display_data"
    }
   ],
   "source": [
    "# predict probability\n",
    "y_pred_prob = random_forest.predict_proba(X_test)[:,1]\n",
    "\n",
    "# compute False Positive and True Positive Rate for ROC Curve\n",
    "fpr, tpr, thresholds = roc_curve(y_test, y_pred_prob)\n",
    "\n",
    "# compute Area under the curve\n",
    "roc_auc = roc_auc_score(y_test, y_pred)\n",
    "\n",
    "# plot ROC curve\n",
    "title = 'ROC Curve:  AUC =' + str(roc_auc.round(3))\n",
    "_ = plt.figure(figsize=(5,5))\n",
    "_ = plt.plot(fpr, tpr)\n",
    "_ = plt.plot([0,1], [0,1], 'k--')\n",
    "_ = plt.xlabel('False Positive Rate (FPR)')\n",
    "_ = plt.ylabel('True Positive Rate (TPR)')\n",
    "_ = plt.title(title)\n",
    "_ = plt.legend(['predictive power','random vector'])\n",
    "\n",
    "print('TPR: ', TPR.round(3), '\\tFPR: ', FPR.round(3))"
   ]
  },
  {
   "cell_type": "markdown",
   "metadata": {},
   "source": [
    "**True Positive (TP) -  prediction: TRUE & actual label: TRUE**  \n",
    "    'Correctly classified as True'  \n",
    "    TPR = (TP) / (TP + FN)\n",
    "    \n",
    "    \n",
    "\n",
    "**True Negative (TN) -  prediction: FALSE & actual label: FALSE**  \n",
    "    'Correctly classified as False'  \n",
    "    \n",
    "\n",
    "\n",
    "**False Positive (FP) -  prediction: TRUE & actual label: FALSE**  \n",
    "    'Incorectly classified as True'  \n",
    "    FPR = (FP) / (FP + TN)\n",
    "    \n",
    "    \n",
    "    \n",
    "**False Negative (FN) -  prediction: FALSE & actual label: TRUE**  \n",
    "    'Incorrectly classified as False'  \n"
   ]
  },
  {
   "cell_type": "code",
   "execution_count": 20,
   "metadata": {
    "scrolled": true
   },
   "outputs": [
    {
     "data": {
      "text/html": [
       "<div>\n",
       "<style scoped>\n",
       "    .dataframe tbody tr th:only-of-type {\n",
       "        vertical-align: middle;\n",
       "    }\n",
       "\n",
       "    .dataframe tbody tr th {\n",
       "        vertical-align: top;\n",
       "    }\n",
       "\n",
       "    .dataframe thead th {\n",
       "        text-align: right;\n",
       "    }\n",
       "</style>\n",
       "<table border=\"1\" class=\"dataframe\">\n",
       "  <thead>\n",
       "    <tr style=\"text-align: right;\">\n",
       "      <th></th>\n",
       "      <th>Predict: NO</th>\n",
       "      <th>Predict: YES</th>\n",
       "    </tr>\n",
       "  </thead>\n",
       "  <tbody>\n",
       "    <tr>\n",
       "      <td>Actual: NO</td>\n",
       "      <td>TN</td>\n",
       "      <td>FP</td>\n",
       "    </tr>\n",
       "    <tr>\n",
       "      <td>Actual: YES</td>\n",
       "      <td>FN</td>\n",
       "      <td>TP</td>\n",
       "    </tr>\n",
       "  </tbody>\n",
       "</table>\n",
       "</div>"
      ],
      "text/plain": [
       "            Predict: NO Predict: YES\n",
       "Actual: NO           TN           FP\n",
       "Actual: YES          FN           TP"
      ]
     },
     "execution_count": 20,
     "metadata": {},
     "output_type": "execute_result"
    }
   ],
   "source": [
    "CONFUSION_MATRIX = pd.DataFrame()\n",
    "CONFUSION_MATRIX['Predict: NO'] = ['TN','FN']\n",
    "CONFUSION_MATRIX['Predict: YES'] = ['FP','TP']\n",
    "CONFUSION_MATRIX.index = ['Actual: NO', 'Actual: YES']\n",
    "CONFUSION_MATRIX"
   ]
  },
  {
   "cell_type": "markdown",
   "metadata": {},
   "source": [
    "**We only care about predicting default correctly. Its ok to reject borrowers that might that are predicted to default, but might actually repay the loan in full. But, it is bad to misclassify a borrower that will actually default on the loan. We want to correctly identify all potential borrowers that will default on their loans. Therefore, TPR will measure the model's ability to correctly classify loans that will default and FPR. It is in the bank's best interest to minimize the amount of FALSE NEGATIVES. This is where the bank will lose money because the model has wrongfully approved a borrower that will eventually default on their loan.**"
   ]
  },
  {
   "cell_type": "code",
   "execution_count": null,
   "metadata": {},
   "outputs": [],
   "source": []
  }
 ],
 "metadata": {
  "kernelspec": {
   "display_name": "Python 3",
   "language": "python",
   "name": "python3"
  },
  "language_info": {
   "codemirror_mode": {
    "name": "ipython",
    "version": 3
   },
   "file_extension": ".py",
   "mimetype": "text/x-python",
   "name": "python",
   "nbconvert_exporter": "python",
   "pygments_lexer": "ipython3",
   "version": "3.7.4"
  }
 },
 "nbformat": 4,
 "nbformat_minor": 2
}
